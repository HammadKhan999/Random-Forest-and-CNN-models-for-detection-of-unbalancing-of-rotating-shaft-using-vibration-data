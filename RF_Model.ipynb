{
 "cells": [
  {
   "cell_type": "code",
   "execution_count": 1,
   "metadata": {},
   "outputs": [],
   "source": [
    "import pandas as pd\n",
    "\n",
    "# Read the CSV file\n",
    "data_train1 = pd.read_csv('0D.csv')\n",
    "data_train2  = pd.read_csv('1D.csv')\n",
    "data_train3  = pd.read_csv('2D.csv')\n",
    "data_train4  = pd.read_csv('3D.csv')\n",
    "data_train5  = pd.read_csv('4D.csv')\n",
    "\n",
    "# Print the column names\n",
    "\n"
   ]
  },
  {
   "cell_type": "code",
   "execution_count": 2,
   "metadata": {},
   "outputs": [
    {
     "name": "stdout",
     "output_type": "stream",
     "text": [
      "(26423295, 5)\n",
      "(26406911, 5)\n",
      "(26406911, 5)\n",
      "(26387906, 5)\n",
      "(26390527, 5)\n"
     ]
    }
   ],
   "source": [
    "\n",
    "print(data_train1.shape)\n",
    "print(data_train2.shape)\n",
    "print(data_train3.shape)\n",
    "print(data_train4.shape)\n",
    "print(data_train5.shape)"
   ]
  },
  {
   "cell_type": "code",
   "execution_count": 3,
   "metadata": {},
   "outputs": [],
   "source": [
    "data_train1['Strength'] = 0\n",
    "data_train2['Strength'] = 1\n",
    "data_train3['Strength'] = 2\n",
    "data_train4['Strength'] = 3\n",
    "data_train5['Strength'] = 4"
   ]
  },
  {
   "cell_type": "code",
   "execution_count": 4,
   "metadata": {},
   "outputs": [
    {
     "name": "stdout",
     "output_type": "stream",
     "text": [
      "(3500000, 6)\n"
     ]
    }
   ],
   "source": [
    "import pandas as pd\n",
    "\n",
    "# Assuming you have five dataframes: df1, df2, df3, df4, df5\n",
    "\n",
    "# Select 10,000 samples from each dataframe\n",
    "sample_df1 = data_train1.head(700000)\n",
    "sample_df2 = data_train2.head(700000)\n",
    "sample_df3 = data_train3.head(700000)\n",
    "sample_df4 = data_train4.head(700000)\n",
    "sample_df5 = data_train5.head(700000)\n",
    "\n",
    "# Concatenate the sampled dataframes\n",
    "concatenated_data = pd.concat([sample_df1, sample_df2, sample_df3, sample_df4, sample_df5], axis=0, ignore_index=True)\n",
    "\n",
    "# Print the concatenated data\n",
    "print(concatenated_data.shape)\n"
   ]
  },
  {
   "cell_type": "code",
   "execution_count": 5,
   "metadata": {},
   "outputs": [],
   "source": [
    "from sklearn.model_selection import train_test_split\n",
    "\n",
    "# Split the dataset into X and y\n",
    "X = concatenated_data[['V_in', 'Measured_RPM', 'Vibration_1', 'Vibration_2', 'Vibration_3']]\n",
    "y = concatenated_data[['Strength']]\n",
    "# Split the data into training and testing subsets\n",
    "X_train, X_test, y_train, y_test = train_test_split(X, y, test_size=0.2, random_state=42)"
   ]
  },
  {
   "cell_type": "code",
   "execution_count": 6,
   "metadata": {},
   "outputs": [
    {
     "name": "stdout",
     "output_type": "stream",
     "text": [
      "RandomForestClassifier(n_estimators=10, oob_score=True, random_state=42)\n"
     ]
    },
    {
     "name": "stderr",
     "output_type": "stream",
     "text": [
      "C:\\Users\\Hammad-PC\\AppData\\Local\\Temp\\ipykernel_10632\\436031599.py:13: DataConversionWarning: A column-vector y was passed when a 1d array was expected. Please change the shape of y to (n_samples,), for example using ravel().\n",
      "  rf_model.fit(X_train, y_train)\n",
      "c:\\Users\\Hammad-PC\\AppData\\Local\\Programs\\Python\\Python310\\lib\\site-packages\\sklearn\\ensemble\\_forest.py:583: UserWarning: Some inputs do not have OOB scores. This probably means too few trees were used to compute any reliable OOB estimates.\n",
      "  warn(\n"
     ]
    },
    {
     "name": "stdout",
     "output_type": "stream",
     "text": [
      "RandomForestClassifier(n_estimators=20, oob_score=True, random_state=42)\n"
     ]
    },
    {
     "name": "stderr",
     "output_type": "stream",
     "text": [
      "C:\\Users\\Hammad-PC\\AppData\\Local\\Temp\\ipykernel_10632\\436031599.py:13: DataConversionWarning: A column-vector y was passed when a 1d array was expected. Please change the shape of y to (n_samples,), for example using ravel().\n",
      "  rf_model.fit(X_train, y_train)\n",
      "c:\\Users\\Hammad-PC\\AppData\\Local\\Programs\\Python\\Python310\\lib\\site-packages\\sklearn\\ensemble\\_forest.py:583: UserWarning: Some inputs do not have OOB scores. This probably means too few trees were used to compute any reliable OOB estimates.\n",
      "  warn(\n"
     ]
    },
    {
     "name": "stdout",
     "output_type": "stream",
     "text": [
      "RandomForestClassifier(n_estimators=30, oob_score=True, random_state=42)\n"
     ]
    },
    {
     "name": "stderr",
     "output_type": "stream",
     "text": [
      "C:\\Users\\Hammad-PC\\AppData\\Local\\Temp\\ipykernel_10632\\436031599.py:13: DataConversionWarning: A column-vector y was passed when a 1d array was expected. Please change the shape of y to (n_samples,), for example using ravel().\n",
      "  rf_model.fit(X_train, y_train)\n",
      "c:\\Users\\Hammad-PC\\AppData\\Local\\Programs\\Python\\Python310\\lib\\site-packages\\sklearn\\ensemble\\_forest.py:583: UserWarning: Some inputs do not have OOB scores. This probably means too few trees were used to compute any reliable OOB estimates.\n",
      "  warn(\n"
     ]
    },
    {
     "name": "stdout",
     "output_type": "stream",
     "text": [
      "RandomForestClassifier(n_estimators=40, oob_score=True, random_state=42)\n"
     ]
    },
    {
     "name": "stderr",
     "output_type": "stream",
     "text": [
      "C:\\Users\\Hammad-PC\\AppData\\Local\\Temp\\ipykernel_10632\\436031599.py:13: DataConversionWarning: A column-vector y was passed when a 1d array was expected. Please change the shape of y to (n_samples,), for example using ravel().\n",
      "  rf_model.fit(X_train, y_train)\n"
     ]
    },
    {
     "name": "stdout",
     "output_type": "stream",
     "text": [
      "RandomForestClassifier(n_estimators=50, oob_score=True, random_state=42)\n"
     ]
    },
    {
     "name": "stderr",
     "output_type": "stream",
     "text": [
      "C:\\Users\\Hammad-PC\\AppData\\Local\\Temp\\ipykernel_10632\\436031599.py:13: DataConversionWarning: A column-vector y was passed when a 1d array was expected. Please change the shape of y to (n_samples,), for example using ravel().\n",
      "  rf_model.fit(X_train, y_train)\n"
     ]
    },
    {
     "name": "stdout",
     "output_type": "stream",
     "text": [
      "RandomForestClassifier(n_estimators=60, oob_score=True, random_state=42)\n"
     ]
    },
    {
     "name": "stderr",
     "output_type": "stream",
     "text": [
      "C:\\Users\\Hammad-PC\\AppData\\Local\\Temp\\ipykernel_10632\\436031599.py:13: DataConversionWarning: A column-vector y was passed when a 1d array was expected. Please change the shape of y to (n_samples,), for example using ravel().\n",
      "  rf_model.fit(X_train, y_train)\n"
     ]
    },
    {
     "name": "stdout",
     "output_type": "stream",
     "text": [
      "RandomForestClassifier(n_estimators=70, oob_score=True, random_state=42)\n"
     ]
    },
    {
     "name": "stderr",
     "output_type": "stream",
     "text": [
      "C:\\Users\\Hammad-PC\\AppData\\Local\\Temp\\ipykernel_10632\\436031599.py:13: DataConversionWarning: A column-vector y was passed when a 1d array was expected. Please change the shape of y to (n_samples,), for example using ravel().\n",
      "  rf_model.fit(X_train, y_train)\n"
     ]
    },
    {
     "name": "stdout",
     "output_type": "stream",
     "text": [
      "RandomForestClassifier(n_estimators=80, oob_score=True, random_state=42)\n"
     ]
    },
    {
     "name": "stderr",
     "output_type": "stream",
     "text": [
      "C:\\Users\\Hammad-PC\\AppData\\Local\\Temp\\ipykernel_10632\\436031599.py:13: DataConversionWarning: A column-vector y was passed when a 1d array was expected. Please change the shape of y to (n_samples,), for example using ravel().\n",
      "  rf_model.fit(X_train, y_train)\n"
     ]
    },
    {
     "name": "stdout",
     "output_type": "stream",
     "text": [
      "RandomForestClassifier(n_estimators=90, oob_score=True, random_state=42)\n"
     ]
    },
    {
     "name": "stderr",
     "output_type": "stream",
     "text": [
      "C:\\Users\\Hammad-PC\\AppData\\Local\\Temp\\ipykernel_10632\\436031599.py:13: DataConversionWarning: A column-vector y was passed when a 1d array was expected. Please change the shape of y to (n_samples,), for example using ravel().\n",
      "  rf_model.fit(X_train, y_train)\n"
     ]
    },
    {
     "name": "stdout",
     "output_type": "stream",
     "text": [
      "RandomForestClassifier(oob_score=True, random_state=42)\n"
     ]
    },
    {
     "name": "stderr",
     "output_type": "stream",
     "text": [
      "C:\\Users\\Hammad-PC\\AppData\\Local\\Temp\\ipykernel_10632\\436031599.py:13: DataConversionWarning: A column-vector y was passed when a 1d array was expected. Please change the shape of y to (n_samples,), for example using ravel().\n",
      "  rf_model.fit(X_train, y_train)\n"
     ]
    },
    {
     "name": "stdout",
     "output_type": "stream",
     "text": [
      "Training time taken: 2279.5171 seconds\n"
     ]
    },
    {
     "data": {
      "image/png": "[encoded data removed]",
      "text/plain": [
       "<Figure size 640x480 with 1 Axes>"
      ]
     },
     "metadata": {},
     "output_type": "display_data"
    },
    {
     "name": "stdout",
     "output_type": "stream",
     "text": [
      "Optimal number of trees: 100\n"
     ]
    }
   ],
   "source": [
    "from sklearn.ensemble import RandomForestClassifier\n",
    "from sklearn.metrics import accuracy_score\n",
    "import time\n",
    "import matplotlib.pyplot as plt\n",
    "import numpy as np\n",
    "\n",
    "n_trees = [10, 20, 30, 40, 50, 60, 70, 80, 90, 100]\n",
    "oob_errors = []\n",
    "for n in n_trees:\n",
    "    start_time = time.time()\n",
    "    rf_model = RandomForestClassifier(n_estimators=n, oob_score=True, random_state=42)\n",
    "    print(rf_model)\n",
    "    rf_model.fit(X_train, y_train)\n",
    "    end_time = time.time()\n",
    "    oob_errors.append(1 - rf_model.oob_score_)\n",
    "time_taken = end_time - start_time\n",
    "# Plot the OOB error as a function of the number of trees\n",
    "print(\"Training time taken: {:.4f} seconds\".format(time_taken))\n",
    "\n",
    "plt.plot(n_trees, oob_errors)\n",
    "plt.xlabel('Number of trees')\n",
    "plt.ylabel('OOB error')\n",
    "plt.title('OOB error as a function of the number of trees')\n",
    "plt.show()\n",
    "\n",
    "# Choose the number of trees that gives the lowest OOB error\n",
    "optimal_n_trees = n_trees[np.argmin(oob_errors)]\n",
    "print('Optimal number of trees:', optimal_n_trees)\n"
   ]
  },
  {
   "cell_type": "code",
   "execution_count": 8,
   "metadata": {},
   "outputs": [
    {
     "data": {
      "text/plain": [
       "['random_forest_model.pkl']"
      ]
     },
     "execution_count": 8,
     "metadata": {},
     "output_type": "execute_result"
    }
   ],
   "source": [
    "# Save the Random Forest model to a file\n",
    "import joblib\n",
    "joblib.dump(rf_model, 'random_forest_model.pkl')"
   ]
  }
 ],
 "metadata": {
  "kernelspec": {
   "display_name": "Python 3",
   "language": "python",
   "name": "python3"
  },
  "language_info": {
   "codemirror_mode": {
    "name": "ipython",
    "version": 3
   },
   "file_extension": ".py",
   "mimetype": "text/x-python",
   "name": "python",
   "nbconvert_exporter": "python",
   "pygments_lexer": "ipython3",
   "version": "3.10.4 (tags/v3.10.4:9d38120, Mar 23 2022, 23:13:41) [MSC v.1929 64 bit (AMD64)]"
  },
  "orig_nbformat": 4,
  "vscode": {
   "interpreter": {
    "hash": "4b6b8e34a64791b77cdbdca7c3f222efcc71ce09e6185e1d30b347e2b8482755"
   }
  }
 },
 "nbformat": 4,
 "nbformat_minor": 2
}
